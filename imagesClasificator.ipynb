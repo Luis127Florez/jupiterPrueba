{
 "cells": [
  {
   "cell_type": "code",
   "execution_count": null,
   "id": "028011e2-c6cb-4a8f-837b-c46da0b497cd",
   "metadata": {},
   "outputs": [],
   "source": [
    "from tensorflow.keras import datasets"
   ]
  },
  {
   "cell_type": "code",
   "execution_count": null,
   "id": "7a81653b-f9d8-4c3b-8cc0-8ac7ae0d5d29",
   "metadata": {},
   "outputs": [],
   "source": [
    "fashion_mnist = datasets.fashion_mnist"
   ]
  },
  {
   "cell_type": "code",
   "execution_count": null,
   "id": "955c7f78-4edf-41a7-838d-fc2687098f56",
   "metadata": {},
   "outputs": [],
   "source": [
    "(X_train, y_train), (X_test, y_test) = fashion_mnist.load_data()"
   ]
  },
  {
   "cell_type": "markdown",
   "id": "bd658ab5-6139-4e60-97b5-d1d5b944ed67",
   "metadata": {},
   "source": [
    "VISUALIZACION DEL CONJUNTO DE DATOS"
   ]
  },
  {
   "cell_type": "code",
   "execution_count": null,
   "id": "e2e078fe-8e55-439a-8360-4304d82a2e8d",
   "metadata": {},
   "outputs": [],
   "source": [
    "import numpy as np\n",
    "import matplotlib.pyplot as plt\n",
    "\n",
    "plt.figure(figsize=(20, 4))\n",
    "\n",
    "for index, img in zip(range(1, 9), X_train[:8]):\n",
    "    plt.subplot(1, 8, index)\n",
    "    plt.imshow(img, cmap=plt.cm.gray)\n",
    "    plt.title(\"Ejemplo: \" + str(index))\n",
    "\n",
    "plt.show()\n"
   ]
  },
  {
   "cell_type": "code",
   "execution_count": null,
   "id": "24ea62b2-5bfa-4238-bd61-b6e0c01a21a5",
   "metadata": {},
   "outputs": [],
   "source": [
    "print(\"len de traint: \", len(X_train)) \n",
    "print(\"len de pruebas: \", len(X_test))"
   ]
  },
  {
   "cell_type": "markdown",
   "id": "54c73183-4750-4e15-bea2-93696ad5a597",
   "metadata": {},
   "source": [
    "TRANSFORMACION DEL CONJUNTO DE DATOS"
   ]
  },
  {
   "cell_type": "code",
   "execution_count": null,
   "id": "806e9558-5b83-40fd-b82f-781265c1954c",
   "metadata": {},
   "outputs": [],
   "source": [
    "X_train_prep = X_train.reshape((60000, 28*28))\n",
    "X_test_prep = X_test.reshape((10000, 28*28))"
   ]
  },
  {
   "cell_type": "code",
   "execution_count": null,
   "id": "60b60068-8339-4e63-8898-f7e1b083bf31",
   "metadata": {},
   "outputs": [],
   "source": [
    "from sklearn.preprocessing import Normalizer\n",
    "\n",
    "transformer  = Normalizer()\n",
    "X_train_prep = transformer.fit_transform(X_train_prep)\n",
    "X_test_prep = transformer.transform(X_test_prep)"
   ]
  },
  {
   "cell_type": "code",
   "execution_count": null,
   "id": "dab66e61-17e5-4431-ba76-dfddbae403ba",
   "metadata": {},
   "outputs": [],
   "source": [
    "from tensorflow.keras.utils import to_categorical\n",
    "\n",
    "y_train_prep = to_categorical(y_train)\n",
    "y_test_prep = to_categorical(y_test)"
   ]
  },
  {
   "cell_type": "markdown",
   "id": "17d3f484-011e-4614-844d-e05f4b7afdc5",
   "metadata": {},
   "source": [
    "CONSTRUCCION DEL MODELO"
   ]
  },
  {
   "cell_type": "code",
   "execution_count": null,
   "id": "204d6c65-cc1a-4253-a66c-e1529d24da76",
   "metadata": {},
   "outputs": [],
   "source": [
    "from tensorflow.keras import models\n",
    "from tensorflow.keras import layers\n",
    "\n",
    "network = models.Sequential()\n",
    "network.add(layers.Dense(300, activation='relu', input_shape=(28*28, )))\n",
    "network.add(layers.Dense(100, activation='relu'))\n",
    "network.add(layers.Dense(10, activation='softmax'))"
   ]
  },
  {
   "cell_type": "code",
   "execution_count": null,
   "id": "b913988b-4920-4664-b8a0-6e5d7252c622",
   "metadata": {},
   "outputs": [],
   "source": [
    "network.compile(loss='categorical_crossentropy',\n",
    "               optimizer='adam',\n",
    "               metrics=['accuracy', 'Precision']\n",
    "               )"
   ]
  },
  {
   "cell_type": "code",
   "execution_count": null,
   "id": "fd578665-9da9-4d07-9d71-f1853f114b59",
   "metadata": {},
   "outputs": [],
   "source": [
    "history = network.fit(X_train_prep,\n",
    "                     y_train_prep,\n",
    "                     batch_size=32,\n",
    "                     epochs=15,\n",
    "                     validation_data=(X_test_prep, y_test_prep))"
   ]
  },
  {
   "cell_type": "code",
   "execution_count": null,
   "id": "7788e5a4-c20e-431b-8fcc-9ec0b583d858",
   "metadata": {},
   "outputs": [],
   "source": []
  }
 ],
 "metadata": {
  "kernelspec": {
   "display_name": "Python 3",
   "language": "python",
   "name": "python3"
  },
  "language_info": {
   "codemirror_mode": {
    "name": "ipython",
    "version": 3
   },
   "file_extension": ".py",
   "mimetype": "text/x-python",
   "name": "python",
   "nbconvert_exporter": "python",
   "pygments_lexer": "ipython3",
   "version": "3.12.4"
  }
 },
 "nbformat": 4,
 "nbformat_minor": 5
}
