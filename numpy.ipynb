{
 "cells": [
  {
   "cell_type": "markdown",
   "id": "102cbb66-e093-4bda-a736-af726aecc532",
   "metadata": {},
   "source": [
    "INTRODUCCION A NUMPY"
   ]
  },
  {
   "cell_type": "code",
   "execution_count": 2,
   "id": "3fb145d2-085a-46d6-9d6a-c7a60a68b4cc",
   "metadata": {},
   "outputs": [],
   "source": [
    "import numpy as np"
   ]
  },
  {
   "cell_type": "markdown",
   "id": "0f67a96e-9435-4490-b23d-732da6146269",
   "metadata": {},
   "source": [
    "(FILAS, COLUMNAS)"
   ]
  },
  {
   "cell_type": "code",
   "execution_count": 3,
   "id": "25c14d7d-295e-450b-873b-29bc9cce3bf6",
   "metadata": {},
   "outputs": [],
   "source": [
    "array = np.zeros((2, 4))"
   ]
  },
  {
   "cell_type": "code",
   "execution_count": 4,
   "id": "7cf2bcdf-6a88-4b47-a0ef-116f48eaadc1",
   "metadata": {},
   "outputs": [
    {
     "data": {
      "text/plain": [
       "array([[0., 0., 0., 0.],\n",
       "       [0., 0., 0., 0.]])"
      ]
     },
     "execution_count": 4,
     "metadata": {},
     "output_type": "execute_result"
    }
   ],
   "source": [
    "array"
   ]
  },
  {
   "cell_type": "code",
   "execution_count": 5,
   "id": "3960ec64-070d-416b-b586-c6ea2e17ec2c",
   "metadata": {},
   "outputs": [
    {
     "data": {
      "text/plain": [
       "(2, 4)"
      ]
     },
     "execution_count": 5,
     "metadata": {},
     "output_type": "execute_result"
    }
   ],
   "source": [
    "array.shape"
   ]
  },
  {
   "cell_type": "code",
   "execution_count": 6,
   "id": "cd426e92-bfaa-4dac-a89c-9389c2850750",
   "metadata": {},
   "outputs": [
    {
     "data": {
      "text/plain": [
       "2"
      ]
     },
     "execution_count": 6,
     "metadata": {},
     "output_type": "execute_result"
    }
   ],
   "source": [
    "array.ndim"
   ]
  },
  {
   "cell_type": "code",
   "execution_count": 7,
   "id": "112dd0ef-9448-4880-8329-6e5118c79427",
   "metadata": {},
   "outputs": [
    {
     "data": {
      "text/plain": [
       "8"
      ]
     },
     "execution_count": 7,
     "metadata": {},
     "output_type": "execute_result"
    }
   ],
   "source": [
    "array.size"
   ]
  },
  {
   "cell_type": "markdown",
   "id": "1e3ab6cd-e0ed-4132-8e1b-025ce8063ed5",
   "metadata": {},
   "source": [
    "CREACION DE ARRAYS"
   ]
  },
  {
   "cell_type": "markdown",
   "id": "7b2a34c6-bf61-4339-a194-8b67d239a4aa",
   "metadata": {},
   "source": [
    "(NUMERO DE ARRAYS, FILAS, COLUMNAS)"
   ]
  },
  {
   "cell_type": "code",
   "execution_count": 14,
   "id": "07d557fc-03c1-4dcd-9606-919abc8f0e08",
   "metadata": {},
   "outputs": [
    {
     "data": {
      "text/plain": [
       "array([[[0., 0., 0., 0.],\n",
       "        [0., 0., 0., 0.],\n",
       "        [0., 0., 0., 0.]],\n",
       "\n",
       "       [[0., 0., 0., 0.],\n",
       "        [0., 0., 0., 0.],\n",
       "        [0., 0., 0., 0.]]])"
      ]
     },
     "execution_count": 14,
     "metadata": {},
     "output_type": "execute_result"
    }
   ],
   "source": [
    "np.zeros((2, 3, 4))"
   ]
  },
  {
   "cell_type": "code",
   "execution_count": 15,
   "id": "2fcbc47f-2c8c-4c30-a3b3-1caa5a299602",
   "metadata": {},
   "outputs": [
    {
     "data": {
      "text/plain": [
       "array([[[1., 1., 1., 1.],\n",
       "        [1., 1., 1., 1.],\n",
       "        [1., 1., 1., 1.]],\n",
       "\n",
       "       [[1., 1., 1., 1.],\n",
       "        [1., 1., 1., 1.],\n",
       "        [1., 1., 1., 1.]]])"
      ]
     },
     "execution_count": 15,
     "metadata": {},
     "output_type": "execute_result"
    }
   ],
   "source": [
    "np.ones((2, 3, 4))"
   ]
  },
  {
   "cell_type": "code",
   "execution_count": 16,
   "id": "8056e7a8-2975-4c08-8194-aa6f823758aa",
   "metadata": {},
   "outputs": [
    {
     "data": {
      "text/plain": [
       "array([[[8, 8, 8, 8],\n",
       "        [8, 8, 8, 8],\n",
       "        [8, 8, 8, 8]],\n",
       "\n",
       "       [[8, 8, 8, 8],\n",
       "        [8, 8, 8, 8],\n",
       "        [8, 8, 8, 8]]])"
      ]
     },
     "execution_count": 16,
     "metadata": {},
     "output_type": "execute_result"
    }
   ],
   "source": [
    "np.full((2, 3, 4), 8)"
   ]
  },
  {
   "cell_type": "markdown",
   "id": "a53411ed-0455-487f-9254-f705e1a2bac5",
   "metadata": {},
   "source": [
    "INICIALIZAR UN ARRAY CON UNA LIST"
   ]
  },
  {
   "cell_type": "code",
   "execution_count": 17,
   "id": "a4c5554c-bf9d-465e-82bc-b1ec0ed2fc0c",
   "metadata": {},
   "outputs": [
    {
     "data": {
      "text/plain": [
       "array([[[1.46525852e-311, 1.46524761e-311, 1.69121096e-306,\n",
       "         6.23043429e-307],\n",
       "        [8.45593934e-307, 7.56593017e-307, 1.33511290e-306,\n",
       "         1.42417221e-306],\n",
       "        [8.01095173e-307, 1.11258854e-306, 1.11261502e-306,\n",
       "         1.42410839e-306]],\n",
       "\n",
       "       [[7.56597770e-307, 6.23059726e-307, 1.86919513e-306,\n",
       "         6.23061763e-307],\n",
       "        [1.33511290e-306, 9.34608432e-307, 2.22522597e-306,\n",
       "         8.90109671e-307],\n",
       "        [8.90111708e-307, 6.89806849e-307, 1.02361342e-306,\n",
       "         6.23059726e-307]],\n",
       "\n",
       "       [[9.34609790e-307, 1.37961709e-306, 1.78018403e-306,\n",
       "         1.69119330e-306],\n",
       "        [8.90111708e-307, 6.89806849e-307, 1.02361342e-306,\n",
       "         6.89811941e-307],\n",
       "        [1.33511018e-306, 9.79097008e-307, 6.89809904e-307,\n",
       "         8.34451079e-308]]])"
      ]
     },
     "execution_count": 17,
     "metadata": {},
     "output_type": "execute_result"
    }
   ],
   "source": [
    "np.empty((3, 3, 4))"
   ]
  },
  {
   "cell_type": "code",
   "execution_count": 19,
   "id": "6dd20485-a120-4747-9cc8-7903fcfedb3e",
   "metadata": {},
   "outputs": [],
   "source": [
    "array2 = np.array([[1, 2, 3], [4, 5, 6]])"
   ]
  },
  {
   "cell_type": "code",
   "execution_count": 20,
   "id": "e89e4a41-71b8-4ae8-9548-3b06de59ec24",
   "metadata": {},
   "outputs": [
    {
     "data": {
      "text/plain": [
       "array([[1, 2, 3],\n",
       "       [4, 5, 6]])"
      ]
     },
     "execution_count": 20,
     "metadata": {},
     "output_type": "execute_result"
    }
   ],
   "source": [
    "array2"
   ]
  },
  {
   "cell_type": "code",
   "execution_count": 21,
   "id": "2dfea21c-df43-4f4f-9b88-eb118ae71f39",
   "metadata": {},
   "outputs": [
    {
     "data": {
      "text/plain": [
       "(2, 3)"
      ]
     },
     "execution_count": 21,
     "metadata": {},
     "output_type": "execute_result"
    }
   ],
   "source": [
    "array2.shape"
   ]
  },
  {
   "cell_type": "code",
   "execution_count": 22,
   "id": "a6548ae0-6e7b-44ab-a8d3-6790cecfd936",
   "metadata": {},
   "outputs": [
    {
     "data": {
      "text/plain": [
       "2"
      ]
     },
     "execution_count": 22,
     "metadata": {},
     "output_type": "execute_result"
    }
   ],
   "source": [
    "array.ndim"
   ]
  },
  {
   "cell_type": "code",
   "execution_count": 23,
   "id": "383df769-c0cc-41bc-ad42-5117eab7ed21",
   "metadata": {},
   "outputs": [
    {
     "data": {
      "text/plain": [
       "array([0.        , 0.66666667, 1.33333333, 2.        , 2.66666667,\n",
       "       3.33333333, 4.        , 4.66666667, 5.33333333, 6.        ])"
      ]
     },
     "execution_count": 23,
     "metadata": {},
     "output_type": "execute_result"
    }
   ],
   "source": [
    "np.linspace(0, 6, 10)"
   ]
  },
  {
   "cell_type": "code",
   "execution_count": 42,
   "id": "89ad9203-45aa-46df-95a7-c06854698339",
   "metadata": {},
   "outputs": [
    {
     "data": {
      "text/plain": [
       "array([[-2.3753177 , -1.59456593,  1.22802767,  0.47094911],\n",
       "       [ 0.18011675, -0.78851851, -1.9684304 ,  0.35806066]])"
      ]
     },
     "execution_count": 42,
     "metadata": {},
     "output_type": "execute_result"
    }
   ],
   "source": [
    "np.random.randn(2, 4)"
   ]
  },
  {
   "cell_type": "code",
   "execution_count": 43,
   "id": "fd23623a-d79c-4744-9483-dd963f8d9672",
   "metadata": {},
   "outputs": [
    {
     "data": {
      "image/png": "[encoded data removed]",
      "text/plain": [
       "<Figure size 640x480 with 1 Axes>"
      ]
     },
     "metadata": {},
     "output_type": "display_data"
    }
   ],
   "source": [
    "from matplotlib import pyplot as plt\n",
    "\n",
    "c = np.random.randn(1000000)\n",
    "\n",
    "plt.hist(c, bins=200)\n",
    "plt.show()"
   ]
  },
  {
   "cell_type": "markdown",
   "id": "87f1762e-5756-409e-948d-1864a6df462c",
   "metadata": {},
   "source": [
    "ACCESO A LOS ELEMENTOS DE UNA ARRAY"
   ]
  },
  {
   "cell_type": "code",
   "execution_count": 46,
   "id": "816b4915-7c8f-4810-b169-181d6a67b6ce",
   "metadata": {},
   "outputs": [],
   "source": [
    "array_un1 = np.array([1, 2, 3, 4, 5, 6])"
   ]
  },
  {
   "cell_type": "code",
   "execution_count": 48,
   "id": "df8023ff-0cbd-48f1-a34d-42de8df59fb3",
   "metadata": {},
   "outputs": [
    {
     "data": {
      "text/plain": [
       "(6,)"
      ]
     },
     "execution_count": 48,
     "metadata": {},
     "output_type": "execute_result"
    }
   ],
   "source": [
    "array_un1.shape"
   ]
  },
  {
   "cell_type": "code",
   "execution_count": 49,
   "id": "12234aa2-e8ca-405e-aea4-954ac28b7a2f",
   "metadata": {},
   "outputs": [
    {
     "data": {
      "text/plain": [
       "np.int64(1)"
      ]
     },
     "execution_count": 49,
     "metadata": {},
     "output_type": "execute_result"
    }
   ],
   "source": [
    "array_un1[0]"
   ]
  },
  {
   "cell_type": "markdown",
   "id": "e0ae4d4c-15af-4d5e-b309-a6bf362baebe",
   "metadata": {},
   "source": [
    "ARRAY MULTIDIMENCIONAL"
   ]
  },
  {
   "cell_type": "code",
   "execution_count": 54,
   "id": "5935f27f-cb3b-4660-9d13-1302434ebd31",
   "metadata": {},
   "outputs": [],
   "source": [
    "arrayMulti = np.array([\n",
    "     [1, 2, 3],\n",
    "     [4, 5, 6],\n",
    "     [7, 8, 9]\n",
    "])"
   ]
  },
  {
   "cell_type": "code",
   "execution_count": 55,
   "id": "59aeec61-7c20-433d-9ca9-bff9060f55f1",
   "metadata": {},
   "outputs": [
    {
     "data": {
      "text/plain": [
       "(3, 3)"
      ]
     },
     "execution_count": 55,
     "metadata": {},
     "output_type": "execute_result"
    }
   ],
   "source": [
    "arrayMulti.shape"
   ]
  },
  {
   "cell_type": "code",
   "execution_count": 56,
   "id": "7645b86f-2c7f-4362-a837-92bf2eb72307",
   "metadata": {},
   "outputs": [
    {
     "data": {
      "text/plain": [
       "np.int64(9)"
      ]
     },
     "execution_count": 56,
     "metadata": {},
     "output_type": "execute_result"
    }
   ],
   "source": [
    "arrayMulti[2, 2]"
   ]
  },
  {
   "cell_type": "code",
   "execution_count": 59,
   "id": "07fced51-acc8-4849-87a4-71dae81c4042",
   "metadata": {},
   "outputs": [
    {
     "data": {
      "text/plain": [
       "array([3, 6, 9])"
      ]
     },
     "execution_count": 59,
     "metadata": {},
     "output_type": "execute_result"
    }
   ],
   "source": [
    "arrayMulti[:, 2]"
   ]
  },
  {
   "cell_type": "raw",
   "id": "f6731a21-90d0-45c3-b9c7-bf2b1dc69476",
   "metadata": {},
   "source": [
    "MODIFICAR UN ARRAY"
   ]
  },
  {
   "cell_type": "code",
   "execution_count": 60,
   "id": "6ed2a109-caab-48b4-9a17-bb8786d1e04c",
   "metadata": {},
   "outputs": [],
   "source": [
    "array4 = np.arange(30)"
   ]
  },
  {
   "cell_type": "code",
   "execution_count": 61,
   "id": "68f1511a-35b0-4598-a382-224f9dc1adad",
   "metadata": {},
   "outputs": [
    {
     "data": {
      "text/plain": [
       "array([ 0,  1,  2,  3,  4,  5,  6,  7,  8,  9, 10, 11, 12, 13, 14, 15, 16,\n",
       "       17, 18, 19, 20, 21, 22, 23, 24, 25, 26, 27, 28, 29])"
      ]
     },
     "execution_count": 61,
     "metadata": {},
     "output_type": "execute_result"
    }
   ],
   "source": [
    "array4"
   ]
  },
  {
   "cell_type": "code",
   "execution_count": 66,
   "id": "f96d2163-08b2-40b8-ab33-85b1c1f97895",
   "metadata": {},
   "outputs": [],
   "source": [
    "array4.shape = (6, 5)"
   ]
  },
  {
   "cell_type": "code",
   "execution_count": 67,
   "id": "2867b193-6833-4510-9b86-d96f57e82907",
   "metadata": {},
   "outputs": [
    {
     "data": {
      "text/plain": [
       "array([[ 0,  1,  2,  3,  4],\n",
       "       [ 5,  6,  7,  8,  9],\n",
       "       [10, 11, 12, 13, 14],\n",
       "       [15, 16, 17, 18, 19],\n",
       "       [20, 21, 22, 23, 24],\n",
       "       [25, 26, 27, 28, 29]])"
      ]
     },
     "execution_count": 67,
     "metadata": {},
     "output_type": "execute_result"
    }
   ],
   "source": [
    "array4"
   ]
  },
  {
   "cell_type": "code",
   "execution_count": 68,
   "id": "912a10fe-22aa-4362-b642-2240f602d794",
   "metadata": {},
   "outputs": [
    {
     "data": {
      "text/plain": [
       "array([10, 12, 14, 16, 18])"
      ]
     },
     "execution_count": 68,
     "metadata": {},
     "output_type": "execute_result"
    }
   ],
   "source": [
    "arraySum1 = np.array([ 0,  1,  2,  3,  4])\n",
    "arraySum2 = np.array([10, 11, 12, 13, 14])\n",
    "arraySum1 + arraySum2"
   ]
  },
  {
   "cell_type": "code",
   "execution_count": 69,
   "id": "25c9092d-d977-44d8-9842-bf60bd527669",
   "metadata": {},
   "outputs": [
    {
     "data": {
      "text/plain": [
       "array([-10, -10, -10, -10, -10])"
      ]
     },
     "execution_count": 69,
     "metadata": {},
     "output_type": "execute_result"
    }
   ],
   "source": [
    "arraySum1 - arraySum2"
   ]
  },
  {
   "cell_type": "code",
   "execution_count": null,
   "id": "fe10aa4c-a895-4d26-ae62-bd95ec618405",
   "metadata": {},
   "outputs": [],
   "source": []
  },
  {
   "cell_type": "code",
   "execution_count": null,
   "id": "2193b6fb-7ff6-4cb3-8619-2c9630048b48",
   "metadata": {},
   "outputs": [],
   "source": []
  }
 ],
 "metadata": {
  "kernelspec": {
   "display_name": "Python 3 (ipykernel)",
   "language": "python",
   "name": "python3"
  },
  "language_info": {
   "codemirror_mode": {
    "name": "ipython",
    "version": 3
   },
   "file_extension": ".py",
   "mimetype": "text/x-python",
   "name": "python",
   "nbconvert_exporter": "python",
   "pygments_lexer": "ipython3",
   "version": "3.12.7"
  }
 },
 "nbformat": 4,
 "nbformat_minor": 5
}
