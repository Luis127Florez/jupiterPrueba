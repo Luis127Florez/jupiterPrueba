{
 "cells": [
  {
   "cell_type": "markdown",
   "id": "0760da0d-6ec0-4907-a79a-47ad2429b16c",
   "metadata": {},
   "source": [
    "IMPLEMENTACION DE LAS NEURONAS"
   ]
  },
  {
   "cell_type": "code",
   "execution_count": 26,
   "id": "55968bbe-a382-4de7-b7fb-05dc8e1fb100",
   "metadata": {},
   "outputs": [],
   "source": [
    "import numpy as np"
   ]
  },
  {
   "cell_type": "code",
   "execution_count": 28,
   "id": "3cd32537-50d6-42df-8221-38dfadf23a40",
   "metadata": {},
   "outputs": [],
   "source": [
    "class MPNeuron:\n",
    "    def __init__(self):\n",
    "        self.threshold = None\n",
    "    \n",
    "    def model(self, x):\n",
    "        return (sum(x) >= self.threshold)\n",
    "\n",
    "    def predict(self, X):\n",
    "        Y = []\n",
    "        for x in X:\n",
    "            resul = self.model(x)\n",
    "            Y.append(resul)\n",
    "        return np.array(Y)"
   ]
  },
  {
   "cell_type": "code",
   "execution_count": 30,
   "id": "91944977-ddfa-4370-8808-fb4566d4e552",
   "metadata": {},
   "outputs": [],
   "source": [
    "mp_neuron = MPNeuron()"
   ]
  },
  {
   "cell_type": "code",
   "execution_count": 32,
   "id": "69bf68a4-81cd-40d3-97ea-8bb77ab5c094",
   "metadata": {},
   "outputs": [],
   "source": [
    "mp_neuron.threshold = 3"
   ]
  },
  {
   "cell_type": "code",
   "execution_count": 34,
   "id": "528c2f44-0d7e-40c2-8ab6-4792796656cc",
   "metadata": {},
   "outputs": [
    {
     "data": {
      "text/plain": [
       "array([False,  True,  True])"
      ]
     },
     "execution_count": 34,
     "metadata": {},
     "output_type": "execute_result"
    }
   ],
   "source": [
    "mp_neuron.predict([[1, 0, 0, 0], [1, 1, 1, 1], [1, 1, 1, 0]])"
   ]
  },
  {
   "cell_type": "code",
   "execution_count": null,
   "id": "438c19f3-f698-4933-a896-2f9fdea6dba6",
   "metadata": {},
   "outputs": [],
   "source": []
  },
  {
   "cell_type": "code",
   "execution_count": null,
   "id": "4667e34c-9a08-4784-affb-8a10c49178aa",
   "metadata": {},
   "outputs": [],
   "source": []
  }
 ],
 "metadata": {
  "kernelspec": {
   "display_name": "Python 3 (ipykernel)",
   "language": "python",
   "name": "python3"
  },
  "language_info": {
   "codemirror_mode": {
    "name": "ipython",
    "version": 3
   },
   "file_extension": ".py",
   "mimetype": "text/x-python",
   "name": "python",
   "nbconvert_exporter": "python",
   "pygments_lexer": "ipython3",
   "version": "3.12.7"
  }
 },
 "nbformat": 4,
 "nbformat_minor": 5
}
